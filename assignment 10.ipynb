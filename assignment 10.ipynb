{
 "cells": [
  {
   "cell_type": "code",
   "execution_count": 1,
   "id": "8e6ac180",
   "metadata": {},
   "outputs": [
    {
     "name": "stdout",
     "output_type": "stream",
     "text": [
      "The Cartesian Product is : [('a', 1), ('a', 2), ('a', 3), ('b', 1), ('b', 2), ('b', 3), ('c', 1), ('c', 2), ('c', 3)]\n"
     ]
    }
   ],
   "source": [
    "'''\n",
    "\n",
    "### 1. Find the Cartesian Product of the below given sets in the below cell. (In Python Code)\n",
    "\n",
    "A = set(['a','b','c'])\n",
    "\n",
    "S = {1,2,3}\n",
    "\n",
    "'''\n",
    "\n",
    "A = set(['a','b','c'])\n",
    "\n",
    "S = {1,2,3}\n",
    "\n",
    "\n",
    "res = [(a, b) for a in A for b in S]\n",
    "print(\"The Cartesian Product is : \" + str(res))"
   ]
  },
  {
   "cell_type": "code",
   "execution_count": 5,
   "id": "13403311",
   "metadata": {},
   "outputs": [
    {
     "name": "stdout",
     "output_type": "stream",
     "text": [
      "['red', 'green', 'blue']\n",
      "['red', 'blue', 'green']\n",
      "['green', 'red', 'blue']\n",
      "['green', 'blue', 'red']\n",
      "['blue', 'red', 'green']\n",
      "['blue', 'green', 'red']\n"
     ]
    }
   ],
   "source": [
    "'''\n",
    "### 2. Find all the possible permutations and number of permutations of A\n",
    "\n",
    "A = {'Red','Green','Blue'}\n",
    "\n",
    "'''\n",
    "\n",
    "\n",
    "\n",
    "def perm(start, end=[]):\n",
    "    if(len(start) == 0):\n",
    "        print(end)\n",
    "    else:\n",
    "        for i in range(len(start)):\n",
    "            perm(start[:i] + start[i+1:], end + start[i:i+1])\n",
    "            \n",
    "\n",
    "perm(['red','green','blue'])"
   ]
  },
  {
   "cell_type": "code",
   "execution_count": 6,
   "id": "e2f166cc",
   "metadata": {},
   "outputs": [
    {
     "name": "stdout",
     "output_type": "stream",
     "text": [
      "[0 1 2 3 4 5 6 7 8 9]\n",
      "\n",
      "Mean:  4.5\n",
      "\n",
      "std:  2.8722813232690143\n",
      "\n",
      "variance:  8.25\n"
     ]
    }
   ],
   "source": [
    "'''\n",
    "### 5. Calculate a function to generate random arrays with range of (1,100) and the naive functions to calculate Mean, Varience and Standard deviation for the array generated\n",
    "'''\n",
    "\n",
    "import numpy as np \n",
    "  \n",
    "  \n",
    "# Original array \n",
    "array = np.arange(10) \n",
    "print(array) \n",
    "  \n",
    "r1 = np.mean(array) \n",
    "print(\"\\nMean: \", r1) \n",
    "  \n",
    "r2 = np.std(array) \n",
    "print(\"\\nstd: \", r2) \n",
    "  \n",
    "r3 = np.var(array) \n",
    "print(\"\\nvariance: \", r3)"
   ]
  },
  {
   "cell_type": "code",
   "execution_count": 7,
   "id": "b826957f",
   "metadata": {},
   "outputs": [
    {
     "name": "stdout",
     "output_type": "stream",
     "text": [
      "3\n",
      "7\n"
     ]
    }
   ],
   "source": [
    "'''\n",
    "### 4. Calculate the set difference between the 2 sets (set1 - multipes of 3 upto a range of 31 and set2 - multiples of upto a range of 31)\n",
    "'''\n",
    "\n",
    "\n",
    "\n",
    "\n",
    "def countOfMultiples(n):\n",
    "    count = 0\n",
    "    for i in range(1, n+1):\n",
    "        if i % 3 == 0 or i % 5 == 0:\n",
    "            count += 1\n",
    "    return count\n",
    " \n",
    "# Driver program to test above function\n",
    "if __name__ == \"__main__\":\n",
    "    print(countOfMultiples(6))\n",
    "    print(countOfMultiples(16))"
   ]
  },
  {
   "cell_type": "code",
   "execution_count": 8,
   "id": "53edf8f4",
   "metadata": {},
   "outputs": [],
   "source": [
    "import statsmodels.api as sm\n",
    "import numpy as np\n",
    "import matplotlib.pyplot as plt\n",
    "import pandas as pd"
   ]
  },
  {
   "cell_type": "code",
   "execution_count": 9,
   "id": "8a06c816",
   "metadata": {},
   "outputs": [],
   "source": [
    "n = 1018\n",
    "pnull = .52\n",
    "phat = .56"
   ]
  },
  {
   "cell_type": "code",
   "execution_count": 10,
   "id": "99430642",
   "metadata": {},
   "outputs": [
    {
     "data": {
      "text/plain": [
       "(2.571067795759113, 0.005069273865860533)"
      ]
     },
     "execution_count": 10,
     "metadata": {},
     "output_type": "execute_result"
    }
   ],
   "source": [
    "sm.stats.proportions_ztest(phat * n, n, pnull, alternative='larger')"
   ]
  },
  {
   "cell_type": "code",
   "execution_count": null,
   "id": "88bddff1",
   "metadata": {},
   "outputs": [],
   "source": [
    "'''\n",
    "CONCLUSION\n",
    "'''\n",
    "print('Since the calculated p-value of the z-test is pretty small, we can reject the Null hypothesis that the percentage of parents, who believe that their teenager’s lack of sleep is caused due to electronics and social media, is as same as previous years' estimate i.e. 52%.\n",
    "Although, we do not accept the alternate hypothesis, this informally means that there is a good chance of this proportion being more than 52%.')"
   ]
  }
 ],
 "metadata": {
  "kernelspec": {
   "display_name": "Python 3 (ipykernel)",
   "language": "python",
   "name": "python3"
  },
  "language_info": {
   "codemirror_mode": {
    "name": "ipython",
    "version": 3
   },
   "file_extension": ".py",
   "mimetype": "text/x-python",
   "name": "python",
   "nbconvert_exporter": "python",
   "pygments_lexer": "ipython3",
   "version": "3.11.4"
  }
 },
 "nbformat": 4,
 "nbformat_minor": 5
}
